{
 "cells": [
  {
   "cell_type": "markdown",
   "metadata": {},
   "source": [
    "**Example**"
   ]
  },
  {
   "cell_type": "markdown",
   "metadata": {},
   "source": [
    "Machine 1 : 30 wrenches/hr<br>\n",
    "Machine 2 : 20 wrenches/hr<br>\n"
   ]
  },
  {
   "cell_type": "markdown",
   "metadata": {},
   "source": [
    "Out of all produced parts : <br>\n",
    "We can see that **1%** are **defective**."
   ]
  },
  {
   "cell_type": "markdown",
   "metadata": {},
   "source": [
    "Out of all defective parts :<br>\n",
    "We can see that **50%** came from **machine 1**<br>\n",
    "and **50%** came from **machine 2**"
   ]
  },
  {
   "cell_type": "markdown",
   "metadata": {},
   "source": [
    "Question :"
   ]
  },
  {
   "cell_type": "markdown",
   "metadata": {},
   "source": [
    "What is the probability that a part produced by machine 2 is defective?"
   ]
  },
  {
   "cell_type": "markdown",
   "metadata": {},
   "source": [
    "***"
   ]
  },
  {
   "cell_type": "markdown",
   "metadata": {},
   "source": [
    "P(machine 1) = 30/50 = **0.6**<br>\n",
    "P(machine 2) = 20/50 = **0.4**<br>\n",
    "P(Defect) = **1%**"
   ]
  },
  {
   "cell_type": "markdown",
   "metadata": {},
   "source": [
    "What is the probability that a part produced by machine 1 is defective?<br>\n",
    "P(Machine 1 | Defect) = **50%**<br>\n",
    "What is the probability that a part produced by machine 2 is defective?<br>\n",
    "P(Machine 2 | Defect) = **50%**<br><br>\n",
    "From here we can directly say that that machine 2 is producing more number of defective pieces\n",
    "because machine 2 produces only 40% product but gives 50% defective pieces but in case of machine 1 the product is produced more so the machine is giving less defective piece as compared to the second."
   ]
  },
  {
   "cell_type": "markdown",
   "metadata": {},
   "source": [
    "**P(Machine 2 | Defect)** means that the **probability of product coming from machine 2** `given` the **defective pieces.**"
   ]
  },
  {
   "cell_type": "markdown",
   "metadata": {},
   "source": [
    "**Applying Formula**"
   ]
  },
  {
   "cell_type": "markdown",
   "metadata": {},
   "source": [
    "Question : Probability that a part being defective came from machine 2 ?"
   ]
  },
  {
   "cell_type": "markdown",
   "metadata": {},
   "source": [
    "**P(Defect|Machine 2) = (&nbsp;&nbsp;&nbsp;P(machine 2| Defect)* P(Defect)&nbsp;&nbsp;&nbsp;) / P(Machine 2)**"
   ]
  },
  {
   "cell_type": "markdown",
   "metadata": {},
   "source": [
    "substituting the values"
   ]
  },
  {
   "cell_type": "code",
   "execution_count": 1,
   "metadata": {},
   "outputs": [
    {
     "data": {
      "text/plain": [
       "0.012499999999999999"
      ]
     },
     "execution_count": 1,
     "metadata": {},
     "output_type": "execute_result"
    }
   ],
   "source": [
    "(0.5*0.01)/0.4"
   ]
  },
  {
   "cell_type": "markdown",
   "metadata": {},
   "source": [
    "So **1.25%** product is defective."
   ]
  },
  {
   "cell_type": "markdown",
   "metadata": {},
   "source": [
    "Let **1000** Wrenches be produced <br>\n",
    "**400** wrenches came from machine 2 <br>\n",
    "**1%** have defect = **10** pieces<br>\n",
    "of them **50%** came from machine 2 = **5**<br>\n",
    "**%**of defective parts from machine 2 = **5/400** =**1.25%**"
   ]
  }
 ],
 "metadata": {
  "kernelspec": {
   "display_name": "Python 3",
   "language": "python",
   "name": "python3"
  },
  "language_info": {
   "codemirror_mode": {
    "name": "ipython",
    "version": 3
   },
   "file_extension": ".py",
   "mimetype": "text/x-python",
   "name": "python",
   "nbconvert_exporter": "python",
   "pygments_lexer": "ipython3",
   "version": "3.7.3"
  },
  "varInspector": {
   "cols": {
    "lenName": 16,
    "lenType": 16,
    "lenVar": 40
   },
   "kernels_config": {
    "python": {
     "delete_cmd_postfix": "",
     "delete_cmd_prefix": "del ",
     "library": "var_list.py",
     "varRefreshCmd": "print(var_dic_list())"
    },
    "r": {
     "delete_cmd_postfix": ") ",
     "delete_cmd_prefix": "rm(",
     "library": "var_list.r",
     "varRefreshCmd": "cat(var_dic_list()) "
    }
   },
   "types_to_exclude": [
    "module",
    "function",
    "builtin_function_or_method",
    "instance",
    "_Feature"
   ],
   "window_display": false
  }
 },
 "nbformat": 4,
 "nbformat_minor": 2
}
