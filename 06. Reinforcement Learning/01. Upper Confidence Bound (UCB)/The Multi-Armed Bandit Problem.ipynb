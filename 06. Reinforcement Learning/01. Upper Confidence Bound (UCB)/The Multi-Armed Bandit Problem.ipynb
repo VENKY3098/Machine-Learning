{
 "cells": [
  {
   "cell_type": "markdown",
   "metadata": {},
   "source": [
    "# The Multi-Armed Bandit Problem"
   ]
  },
  {
   "cell_type": "markdown",
   "metadata": {},
   "source": [
    "A one-Armed bandit is a slot machine which has a handle that needs to pulled to initite the game. There is 50-50 chance of winning this game. But putting bug(kind of) into the machine people genrally lost the game, which was a genrally like a bandit.<br>\n",
    "If there is a set of such kind of machines then it is known as multi-bandit machine.<br>\n",
    "So the question which arises here is that how will we play that game to maximise our return?<br><br>\n",
    "So each machine has a distribution behind it from which the machine picks its result.<br>\n",
    "The **problem** here is that we don't know what is the distribution behind the machine. Generally it is being assumed that the distributions are different for different machines.<br>\n",
    "The **goal** is to figure out which distribution is best for us.<br>\n"
   ]
  },
  {
   "cell_type": "markdown",
   "metadata": {},
   "source": [
    "# Upper Confidence Bound"
   ]
  },
  {
   "cell_type": "code",
   "execution_count": null,
   "metadata": {},
   "outputs": [],
   "source": []
  }
 ],
 "metadata": {
  "kernelspec": {
   "display_name": "Python 3",
   "language": "python",
   "name": "python3"
  },
  "language_info": {
   "codemirror_mode": {
    "name": "ipython",
    "version": 3
   },
   "file_extension": ".py",
   "mimetype": "text/x-python",
   "name": "python",
   "nbconvert_exporter": "python",
   "pygments_lexer": "ipython3",
   "version": "3.7.3"
  },
  "varInspector": {
   "cols": {
    "lenName": 16,
    "lenType": 16,
    "lenVar": 40
   },
   "kernels_config": {
    "python": {
     "delete_cmd_postfix": "",
     "delete_cmd_prefix": "del ",
     "library": "var_list.py",
     "varRefreshCmd": "print(var_dic_list())"
    },
    "r": {
     "delete_cmd_postfix": ") ",
     "delete_cmd_prefix": "rm(",
     "library": "var_list.r",
     "varRefreshCmd": "cat(var_dic_list()) "
    }
   },
   "types_to_exclude": [
    "module",
    "function",
    "builtin_function_or_method",
    "instance",
    "_Feature"
   ],
   "window_display": false
  }
 },
 "nbformat": 4,
 "nbformat_minor": 2
}
