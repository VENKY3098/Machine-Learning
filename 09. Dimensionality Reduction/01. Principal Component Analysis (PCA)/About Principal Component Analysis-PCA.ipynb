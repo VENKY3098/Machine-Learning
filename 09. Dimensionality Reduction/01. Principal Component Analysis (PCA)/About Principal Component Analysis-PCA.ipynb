{
 "cells": [
  {
   "cell_type": "markdown",
   "metadata": {},
   "source": [
    "# Principal Component Analysis-PCA\n",
    "It is a unsupervised dimensionality reduction algorithm.\n",
    "***\n",
    "PCA is used for :\n",
    "* Noise Filtering\n",
    "* Visualization\n",
    "* Feature Extraction\n",
    "***\n",
    "The goal is to \n",
    "* Identify pattern in data\n",
    "* Detect the correlation between variables<br>\n",
    "If there is a strong correlation then we can reduce the dimensionality.<br>\n",
    "We find the directions of maximum variance in high dimensional data and then we project it into a smaller dimensional subspace while retaining most of the information.\n",
    "***\n",
    "# Goal\n",
    "* Reduce the dimension of a $d$-dimensional dataset by projecting it into a $(k)$-dimensional subspace(where $k<d$)\n",
    "***\n",
    "# Main Function\n",
    "* Standardize the data.\n",
    "* Obtain the **Eigen vectors** and **Eigen values** from the **covariance matrix** or **correlation matrix**, or perform singular Decomposition.\n",
    "* Sort eigenvalues in descending order and choose the $k$ eigenvector that corresponds to the $k$ largest eigenvalues where $k$ is the number of dimensions of the new feature subspace $(k\\leq d)$.\n",
    "* Construct the projection matrix **W** from the selected $k$ eigenvectors.\n",
    "* Transform the original dataset **X** via **W** to obtain a $k-$dimensional feature subspace **Y**.\n",
    "***\n",
    "PCA attemmpts to \n",
    "* learn about the relationship between X and Y values.\n",
    "* Find list of principal axes\n",
    "***\n",
    "CONs of PCA<br>\n",
    "* PCA is highly affected by the outliers in the data<br>"
   ]
  },
  {
   "cell_type": "markdown",
   "metadata": {},
   "source": [
    "| Feature Selection         |     Feature Extraction    |\n",
    "|---------------------------|---------------------------|\n",
    "| Backward Elimination      |             PCA           |\n",
    "| Forward Selection         |             LDA           |\n",
    "| Bidirectional Elimination |          Kernel PCA       |\n",
    "| Score Comparison          |                           |"
   ]
  }
 ],
 "metadata": {
  "kernelspec": {
   "display_name": "Python 3",
   "language": "python",
   "name": "python3"
  },
  "language_info": {
   "codemirror_mode": {
    "name": "ipython",
    "version": 3
   },
   "file_extension": ".py",
   "mimetype": "text/x-python",
   "name": "python",
   "nbconvert_exporter": "python",
   "pygments_lexer": "ipython3",
   "version": "3.7.4"
  },
  "varInspector": {
   "cols": {
    "lenName": 16,
    "lenType": 16,
    "lenVar": 40
   },
   "kernels_config": {
    "python": {
     "delete_cmd_postfix": "",
     "delete_cmd_prefix": "del ",
     "library": "var_list.py",
     "varRefreshCmd": "print(var_dic_list())"
    },
    "r": {
     "delete_cmd_postfix": ") ",
     "delete_cmd_prefix": "rm(",
     "library": "var_list.r",
     "varRefreshCmd": "cat(var_dic_list()) "
    }
   },
   "types_to_exclude": [
    "module",
    "function",
    "builtin_function_or_method",
    "instance",
    "_Feature"
   ],
   "window_display": false
  }
 },
 "nbformat": 4,
 "nbformat_minor": 2
}
