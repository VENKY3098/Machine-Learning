{
 "cells": [
  {
   "cell_type": "markdown",
   "metadata": {},
   "source": [
    "# Part 1 - Data Preprocessing"
   ]
  },
  {
   "cell_type": "code",
   "execution_count": 1,
   "metadata": {},
   "outputs": [],
   "source": [
    "# Importing the libraries\n",
    "import numpy as np\n",
    "import matplotlib.pyplot as plt\n",
    "import pandas as pd"
   ]
  },
  {
   "cell_type": "code",
   "execution_count": 2,
   "metadata": {},
   "outputs": [],
   "source": [
    "# Importing the dataset\n",
    "dataset = pd.read_csv('Dataset/Churn_Modelling.csv')\n",
    "X = dataset.iloc[:, 3:13].values\n",
    "y = dataset.iloc[:,-1].values"
   ]
  },
  {
   "cell_type": "code",
   "execution_count": 3,
   "metadata": {},
   "outputs": [
    {
     "data": {
      "text/html": [
       "<div>\n",
       "<style scoped>\n",
       "    .dataframe tbody tr th:only-of-type {\n",
       "        vertical-align: middle;\n",
       "    }\n",
       "\n",
       "    .dataframe tbody tr th {\n",
       "        vertical-align: top;\n",
       "    }\n",
       "\n",
       "    .dataframe thead th {\n",
       "        text-align: right;\n",
       "    }\n",
       "</style>\n",
       "<table border=\"1\" class=\"dataframe\">\n",
       "  <thead>\n",
       "    <tr style=\"text-align: right;\">\n",
       "      <th></th>\n",
       "      <th>RowNumber</th>\n",
       "      <th>CustomerId</th>\n",
       "      <th>Surname</th>\n",
       "      <th>CreditScore</th>\n",
       "      <th>Geography</th>\n",
       "      <th>Gender</th>\n",
       "      <th>Age</th>\n",
       "      <th>Tenure</th>\n",
       "      <th>Balance</th>\n",
       "      <th>NumOfProducts</th>\n",
       "      <th>HasCrCard</th>\n",
       "      <th>IsActiveMember</th>\n",
       "      <th>EstimatedSalary</th>\n",
       "      <th>Exited</th>\n",
       "    </tr>\n",
       "  </thead>\n",
       "  <tbody>\n",
       "    <tr>\n",
       "      <td>0</td>\n",
       "      <td>1</td>\n",
       "      <td>15634602</td>\n",
       "      <td>Hargrave</td>\n",
       "      <td>619</td>\n",
       "      <td>France</td>\n",
       "      <td>Female</td>\n",
       "      <td>42</td>\n",
       "      <td>2</td>\n",
       "      <td>0.00</td>\n",
       "      <td>1</td>\n",
       "      <td>1</td>\n",
       "      <td>1</td>\n",
       "      <td>101348.88</td>\n",
       "      <td>1</td>\n",
       "    </tr>\n",
       "    <tr>\n",
       "      <td>1</td>\n",
       "      <td>2</td>\n",
       "      <td>15647311</td>\n",
       "      <td>Hill</td>\n",
       "      <td>608</td>\n",
       "      <td>Spain</td>\n",
       "      <td>Female</td>\n",
       "      <td>41</td>\n",
       "      <td>1</td>\n",
       "      <td>83807.86</td>\n",
       "      <td>1</td>\n",
       "      <td>0</td>\n",
       "      <td>1</td>\n",
       "      <td>112542.58</td>\n",
       "      <td>0</td>\n",
       "    </tr>\n",
       "    <tr>\n",
       "      <td>2</td>\n",
       "      <td>3</td>\n",
       "      <td>15619304</td>\n",
       "      <td>Onio</td>\n",
       "      <td>502</td>\n",
       "      <td>France</td>\n",
       "      <td>Female</td>\n",
       "      <td>42</td>\n",
       "      <td>8</td>\n",
       "      <td>159660.80</td>\n",
       "      <td>3</td>\n",
       "      <td>1</td>\n",
       "      <td>0</td>\n",
       "      <td>113931.57</td>\n",
       "      <td>1</td>\n",
       "    </tr>\n",
       "    <tr>\n",
       "      <td>3</td>\n",
       "      <td>4</td>\n",
       "      <td>15701354</td>\n",
       "      <td>Boni</td>\n",
       "      <td>699</td>\n",
       "      <td>France</td>\n",
       "      <td>Female</td>\n",
       "      <td>39</td>\n",
       "      <td>1</td>\n",
       "      <td>0.00</td>\n",
       "      <td>2</td>\n",
       "      <td>0</td>\n",
       "      <td>0</td>\n",
       "      <td>93826.63</td>\n",
       "      <td>0</td>\n",
       "    </tr>\n",
       "    <tr>\n",
       "      <td>4</td>\n",
       "      <td>5</td>\n",
       "      <td>15737888</td>\n",
       "      <td>Mitchell</td>\n",
       "      <td>850</td>\n",
       "      <td>Spain</td>\n",
       "      <td>Female</td>\n",
       "      <td>43</td>\n",
       "      <td>2</td>\n",
       "      <td>125510.82</td>\n",
       "      <td>1</td>\n",
       "      <td>1</td>\n",
       "      <td>1</td>\n",
       "      <td>79084.10</td>\n",
       "      <td>0</td>\n",
       "    </tr>\n",
       "  </tbody>\n",
       "</table>\n",
       "</div>"
      ],
      "text/plain": [
       "   RowNumber  CustomerId   Surname  CreditScore Geography  Gender  Age  \\\n",
       "0          1    15634602  Hargrave          619    France  Female   42   \n",
       "1          2    15647311      Hill          608     Spain  Female   41   \n",
       "2          3    15619304      Onio          502    France  Female   42   \n",
       "3          4    15701354      Boni          699    France  Female   39   \n",
       "4          5    15737888  Mitchell          850     Spain  Female   43   \n",
       "\n",
       "   Tenure    Balance  NumOfProducts  HasCrCard  IsActiveMember  \\\n",
       "0       2       0.00              1          1               1   \n",
       "1       1   83807.86              1          0               1   \n",
       "2       8  159660.80              3          1               0   \n",
       "3       1       0.00              2          0               0   \n",
       "4       2  125510.82              1          1               1   \n",
       "\n",
       "   EstimatedSalary  Exited  \n",
       "0        101348.88       1  \n",
       "1        112542.58       0  \n",
       "2        113931.57       1  \n",
       "3         93826.63       0  \n",
       "4         79084.10       0  "
      ]
     },
     "execution_count": 3,
     "metadata": {},
     "output_type": "execute_result"
    }
   ],
   "source": [
    "dataset.head()"
   ]
  },
  {
   "cell_type": "code",
   "execution_count": 4,
   "metadata": {},
   "outputs": [
    {
     "data": {
      "text/plain": [
       "array([[619, 'France', 'Female', 42, 2, 0.0, 1, 1, 1, 101348.88],\n",
       "       [608, 'Spain', 'Female', 41, 1, 83807.86, 1, 0, 1, 112542.58],\n",
       "       [502, 'France', 'Female', 42, 8, 159660.8, 3, 1, 0, 113931.57],\n",
       "       [699, 'France', 'Female', 39, 1, 0.0, 2, 0, 0, 93826.63],\n",
       "       [850, 'Spain', 'Female', 43, 2, 125510.82, 1, 1, 1, 79084.1],\n",
       "       [645, 'Spain', 'Male', 44, 8, 113755.78, 2, 1, 0, 149756.71],\n",
       "       [822, 'France', 'Male', 50, 7, 0.0, 2, 1, 1, 10062.8],\n",
       "       [376, 'Germany', 'Female', 29, 4, 115046.74, 4, 1, 0, 119346.88],\n",
       "       [501, 'France', 'Male', 44, 4, 142051.07, 2, 0, 1, 74940.5],\n",
       "       [684, 'France', 'Male', 27, 2, 134603.88, 1, 1, 1, 71725.73]],\n",
       "      dtype=object)"
      ]
     },
     "execution_count": 4,
     "metadata": {},
     "output_type": "execute_result"
    }
   ],
   "source": [
    "X[:10]"
   ]
  },
  {
   "cell_type": "code",
   "execution_count": 5,
   "metadata": {},
   "outputs": [
    {
     "name": "stderr",
     "output_type": "stream",
     "text": [
      "/home/samir/anaconda3/lib/python3.7/site-packages/sklearn/preprocessing/_encoders.py:415: FutureWarning: The handling of integer data will change in version 0.22. Currently, the categories are determined based on the range [0, max(values)], while in the future they will be determined based on the unique values.\n",
      "If you want the future behaviour and silence this warning, you can specify \"categories='auto'\".\n",
      "In case you used a LabelEncoder before this OneHotEncoder to convert the categories to integers, then you can now use the OneHotEncoder directly.\n",
      "  warnings.warn(msg, FutureWarning)\n",
      "/home/samir/anaconda3/lib/python3.7/site-packages/sklearn/preprocessing/_encoders.py:451: DeprecationWarning: The 'categorical_features' keyword is deprecated in version 0.20 and will be removed in 0.22. You can use the ColumnTransformer instead.\n",
      "  \"use the ColumnTransformer instead.\", DeprecationWarning)\n"
     ]
    }
   ],
   "source": [
    "#Encoding Cateforical Data\n",
    "from sklearn.preprocessing import OneHotEncoder,LabelEncoder\n",
    "labelencoder_X_1 = LabelEncoder()\n",
    "X[:,1]= labelencoder_X_1.fit_transform(X[:,1])#Encoding geography variable\n",
    "labelencoder_X_2 = LabelEncoder()\n",
    "X[:,2]= labelencoder_X_2.fit_transform(X[:,2])#Encoding Gender variable\n",
    "onehotencoder = OneHotEncoder(categorical_features=[1])\n",
    "X = onehotencoder.fit_transform(X).toarray()"
   ]
  },
  {
   "cell_type": "code",
   "execution_count": 6,
   "metadata": {},
   "outputs": [
    {
     "data": {
      "text/plain": [
       "array([[1.0000000e+00, 0.0000000e+00, 0.0000000e+00, 6.1900000e+02,\n",
       "        0.0000000e+00, 4.2000000e+01, 2.0000000e+00, 0.0000000e+00,\n",
       "        1.0000000e+00, 1.0000000e+00, 1.0000000e+00, 1.0134888e+05],\n",
       "       [0.0000000e+00, 0.0000000e+00, 1.0000000e+00, 6.0800000e+02,\n",
       "        0.0000000e+00, 4.1000000e+01, 1.0000000e+00, 8.3807860e+04,\n",
       "        1.0000000e+00, 0.0000000e+00, 1.0000000e+00, 1.1254258e+05],\n",
       "       [1.0000000e+00, 0.0000000e+00, 0.0000000e+00, 5.0200000e+02,\n",
       "        0.0000000e+00, 4.2000000e+01, 8.0000000e+00, 1.5966080e+05,\n",
       "        3.0000000e+00, 1.0000000e+00, 0.0000000e+00, 1.1393157e+05],\n",
       "       [1.0000000e+00, 0.0000000e+00, 0.0000000e+00, 6.9900000e+02,\n",
       "        0.0000000e+00, 3.9000000e+01, 1.0000000e+00, 0.0000000e+00,\n",
       "        2.0000000e+00, 0.0000000e+00, 0.0000000e+00, 9.3826630e+04],\n",
       "       [0.0000000e+00, 0.0000000e+00, 1.0000000e+00, 8.5000000e+02,\n",
       "        0.0000000e+00, 4.3000000e+01, 2.0000000e+00, 1.2551082e+05,\n",
       "        1.0000000e+00, 1.0000000e+00, 1.0000000e+00, 7.9084100e+04]])"
      ]
     },
     "execution_count": 6,
     "metadata": {},
     "output_type": "execute_result"
    }
   ],
   "source": [
    "X[:5]#Displaying X variable"
   ]
  },
  {
   "cell_type": "code",
   "execution_count": 7,
   "metadata": {},
   "outputs": [],
   "source": [
    "#removing dummy variable\n",
    "X = X[:,1:]"
   ]
  },
  {
   "cell_type": "markdown",
   "metadata": {},
   "source": [
    "We made a dummy variable for country and remove the first column to avoid dummy variable trap.<br>\n",
    "There is no need to create dummy variable for gender column as there are only two variables."
   ]
  },
  {
   "cell_type": "code",
   "execution_count": 8,
   "metadata": {},
   "outputs": [
    {
     "data": {
      "text/plain": [
       "array([[0.0000000e+00, 0.0000000e+00, 6.1900000e+02, 0.0000000e+00,\n",
       "        4.2000000e+01, 2.0000000e+00, 0.0000000e+00, 1.0000000e+00,\n",
       "        1.0000000e+00, 1.0000000e+00, 1.0134888e+05],\n",
       "       [0.0000000e+00, 1.0000000e+00, 6.0800000e+02, 0.0000000e+00,\n",
       "        4.1000000e+01, 1.0000000e+00, 8.3807860e+04, 1.0000000e+00,\n",
       "        0.0000000e+00, 1.0000000e+00, 1.1254258e+05],\n",
       "       [0.0000000e+00, 0.0000000e+00, 5.0200000e+02, 0.0000000e+00,\n",
       "        4.2000000e+01, 8.0000000e+00, 1.5966080e+05, 3.0000000e+00,\n",
       "        1.0000000e+00, 0.0000000e+00, 1.1393157e+05],\n",
       "       [0.0000000e+00, 0.0000000e+00, 6.9900000e+02, 0.0000000e+00,\n",
       "        3.9000000e+01, 1.0000000e+00, 0.0000000e+00, 2.0000000e+00,\n",
       "        0.0000000e+00, 0.0000000e+00, 9.3826630e+04],\n",
       "       [0.0000000e+00, 1.0000000e+00, 8.5000000e+02, 0.0000000e+00,\n",
       "        4.3000000e+01, 2.0000000e+00, 1.2551082e+05, 1.0000000e+00,\n",
       "        1.0000000e+00, 1.0000000e+00, 7.9084100e+04]])"
      ]
     },
     "execution_count": 8,
     "metadata": {},
     "output_type": "execute_result"
    }
   ],
   "source": [
    "X[:5]"
   ]
  },
  {
   "cell_type": "code",
   "execution_count": 9,
   "metadata": {},
   "outputs": [],
   "source": [
    "#Splitting the dataset into the Training set and Test set\n",
    "from sklearn.model_selection import train_test_split\n",
    "X_train,X_test,y_train,y_test = train_test_split(X,y,test_size =0.2,random_state=0)"
   ]
  },
  {
   "cell_type": "code",
   "execution_count": 10,
   "metadata": {},
   "outputs": [],
   "source": [
    "#Feature Scaling\n",
    "from sklearn.preprocessing import StandardScaler\n",
    "sc = StandardScaler()\n",
    "X_train = sc.fit_transform(X_train)\n",
    "X_test = sc.transform(X_test)"
   ]
  },
  {
   "cell_type": "markdown",
   "metadata": {},
   "source": [
    "# Part 2 - Making ANN"
   ]
  },
  {
   "cell_type": "code",
   "execution_count": 11,
   "metadata": {},
   "outputs": [
    {
     "name": "stderr",
     "output_type": "stream",
     "text": [
      "Using TensorFlow backend.\n",
      "/home/samir/anaconda3/lib/python3.7/site-packages/tensorflow/python/framework/dtypes.py:526: FutureWarning: Passing (type, 1) or '1type' as a synonym of type is deprecated; in a future version of numpy, it will be understood as (type, (1,)) / '(1,)type'.\n",
      "  _np_qint8 = np.dtype([(\"qint8\", np.int8, 1)])\n",
      "/home/samir/anaconda3/lib/python3.7/site-packages/tensorflow/python/framework/dtypes.py:527: FutureWarning: Passing (type, 1) or '1type' as a synonym of type is deprecated; in a future version of numpy, it will be understood as (type, (1,)) / '(1,)type'.\n",
      "  _np_quint8 = np.dtype([(\"quint8\", np.uint8, 1)])\n",
      "/home/samir/anaconda3/lib/python3.7/site-packages/tensorflow/python/framework/dtypes.py:528: FutureWarning: Passing (type, 1) or '1type' as a synonym of type is deprecated; in a future version of numpy, it will be understood as (type, (1,)) / '(1,)type'.\n",
      "  _np_qint16 = np.dtype([(\"qint16\", np.int16, 1)])\n",
      "/home/samir/anaconda3/lib/python3.7/site-packages/tensorflow/python/framework/dtypes.py:529: FutureWarning: Passing (type, 1) or '1type' as a synonym of type is deprecated; in a future version of numpy, it will be understood as (type, (1,)) / '(1,)type'.\n",
      "  _np_quint16 = np.dtype([(\"quint16\", np.uint16, 1)])\n",
      "/home/samir/anaconda3/lib/python3.7/site-packages/tensorflow/python/framework/dtypes.py:530: FutureWarning: Passing (type, 1) or '1type' as a synonym of type is deprecated; in a future version of numpy, it will be understood as (type, (1,)) / '(1,)type'.\n",
      "  _np_qint32 = np.dtype([(\"qint32\", np.int32, 1)])\n",
      "/home/samir/anaconda3/lib/python3.7/site-packages/tensorflow/python/framework/dtypes.py:535: FutureWarning: Passing (type, 1) or '1type' as a synonym of type is deprecated; in a future version of numpy, it will be understood as (type, (1,)) / '(1,)type'.\n",
      "  np_resource = np.dtype([(\"resource\", np.ubyte, 1)])\n"
     ]
    }
   ],
   "source": [
    "#importing the keras libraries and packages\n",
    "import keras"
   ]
  },
  {
   "cell_type": "markdown",
   "metadata": {},
   "source": [
    "**Modules**<br>\n",
    "* `Sequentials module` :- It is required to initialize our neural network\n",
    "* `Dense module` : It is required to build the layers of our ANN<br><br>\n",
    "step 1 : Random initialisation of the weights to small numbers close to 0 can be handled by `Dense` `Module`<br> \n",
    "<br>\n",
    "Initialising the ANN means defining the neural network as sequence of layers.<br>\n",
    "There are actually two ways of initializing a deep neural network<br><br>\n",
    "* By defining sequence of layers\n",
    "* By defining a graph "
   ]
  },
  {
   "cell_type": "code",
   "execution_count": 12,
   "metadata": {},
   "outputs": [],
   "source": [
    "from keras.models import Sequential\n",
    "from keras.layers import Dense"
   ]
  },
  {
   "cell_type": "code",
   "execution_count": 13,
   "metadata": {},
   "outputs": [],
   "source": [
    "#Initialising the ANN\n",
    "#Note : our problem is a classification problem\n",
    "classifier = Sequential()\n",
    "#We defined our NN as sequence of layers"
   ]
  },
  {
   "cell_type": "markdown",
   "metadata": {},
   "source": [
    "The first layers will be first input layer and the hidden layer.<br>\n",
    "**Arguments**<br>\n",
    "`Dense`(`units`, `activation`=None, `use_bias`=True, `kernel_initializer`='glorot_uniform', `bias_initializer`='zeros', `kernel_regularizer`=None, `bias_regularizer`=None, `activity_regularizer`=None, `kernel_constraint`=None, `bias_constraint`=None, \\*\\*kwargs)<br>\n",
    "number of `Nodes` in the input layer will be equal to number of `independent variable`<br>\n",
    "`output_dim` : no. of nodes we want to add in this hidden layer because more precisely the add function does is not to add input layer in the first layer but it really does is add this hidden by specifying no. of input in previous layer.<br>\n",
    "Parameter Tuning is a technique like k4 cross validation used to tune the model.<br>\n",
    "Here for choosing number of nodes in the layer we will take the average of the number of nodes in the input layer and number of nodes in the output layer.<br>\n",
    "for here number of nodes in the hidden layer = (11+1)/2 = 6<br>\n",
    "So `output_dim` or `units` = 6<br>\n",
    "`kernel_initializer` or `init`: Randomly initialiaze the weight as small number close to 0.<br>\n",
    "`activation`='relu' : For hidden layer we will choose rectifier function as activation function and for output layer we will choose sigmoid function.<br>\n",
    "`input_dim` : The number of nodes in the input layer that is the number of independent variables "
   ]
  },
  {
   "cell_type": "code",
   "execution_count": 14,
   "metadata": {},
   "outputs": [
    {
     "name": "stdout",
     "output_type": "stream",
     "text": [
      "WARNING:tensorflow:From /home/samir/anaconda3/lib/python3.7/site-packages/tensorflow/python/ops/resource_variable_ops.py:435: colocate_with (from tensorflow.python.framework.ops) is deprecated and will be removed in a future version.\n",
      "Instructions for updating:\n",
      "Colocations handled automatically by placer.\n"
     ]
    }
   ],
   "source": [
    "#Adding the input layer and the first hidden layer\n",
    "classifier.add(Dense(units=6,kernel_initializer='uniform',activation='relu',input_dim= 11))#Adding the layer to ANN "
   ]
  },
  {
   "cell_type": "code",
   "execution_count": 15,
   "metadata": {},
   "outputs": [],
   "source": [
    "#Adding the second Hidden layer\n",
    "classifier.add(Dense(units=6,kernel_initializer='uniform',activation='relu'))#Adding the layer to ANN \n",
    "#For second hidden layer we don't need to specify the input_dim parameter\n",
    "#because NN what it will get input in second layer"
   ]
  },
  {
   "cell_type": "code",
   "execution_count": 16,
   "metadata": {},
   "outputs": [],
   "source": [
    "#Adding the output layer\n",
    "classifier.add(Dense(units=1,kernel_initializer='uniform',activation='sigmoid'))#Adding the layer to ANN "
   ]
  },
  {
   "cell_type": "markdown",
   "metadata": {},
   "source": [
    "sigmoid vs softmax<br>\n",
    "softmax : If we are dealing with dependent variables which has more than two categories we will use **softmax** and accordingly we have to change output_dim or units parameter because when we onehot encode a **dependent variable** it may result into two or more than 2 variables."
   ]
  },
  {
   "cell_type": "code",
   "execution_count": 17,
   "metadata": {},
   "outputs": [],
   "source": [
    "from IPython.display import Image"
   ]
  },
  {
   "cell_type": "code",
   "execution_count": 18,
   "metadata": {},
   "outputs": [
    {
     "data": {
      "image/jpeg": "[encoded data removed]",
      "text/plain": [
       "<IPython.core.display.Image object>"
      ]
     },
     "execution_count": 18,
     "metadata": {
      "image/jpeg": {
       "height": 700,
       "width": 700
      }
     },
     "output_type": "execute_result"
    }
   ],
   "source": [
    "Image(filename='/home/samir/Desktop/@ML/08. Deep Learning/01. Artificial Neural Network/Images/s.jpg',height=700,width=700)"
   ]
  },
  {
   "cell_type": "markdown",
   "metadata": {},
   "source": [
    "stochastic gradient descent for Logistic regression model is :<br>\n",
    "Here the loss function will not be sum of squared error as it was for linear regression models instead it will Logarithmic Loss function.<br>\n",
    "If our dependent variable has a binary outcome then this logarthmic loss function is called **binary_crossentropy** and if our dependent variable has more than two outcome then this logarithmic loss function is called **categorical_crossentropy** function.<br>\n",
    "metrics : criterion chosen to evaluate your model"
   ]
  },
  {
   "cell_type": "code",
   "execution_count": 19,
   "metadata": {},
   "outputs": [],
   "source": [
    "#applying stochastic gradient descent\n",
    "classifier.compile(optimizer='adam',loss='binary_crossentropy',metrics=['accuracy'])\n",
    "#Here loss is the error produced while calculating stochastic gradient descent\n",
    "#here we will provide logarithmic loss function"
   ]
  },
  {
   "cell_type": "markdown",
   "metadata": {},
   "source": [
    "Next step is choosing number of epochs i.e. no. of times we are training our ANN on the whole training set.<br>"
   ]
  },
  {
   "cell_type": "code",
   "execution_count": 20,
   "metadata": {},
   "outputs": [
    {
     "name": "stdout",
     "output_type": "stream",
     "text": [
      "WARNING:tensorflow:From /home/samir/anaconda3/lib/python3.7/site-packages/tensorflow/python/ops/math_ops.py:3066: to_int32 (from tensorflow.python.ops.math_ops) is deprecated and will be removed in a future version.\n",
      "Instructions for updating:\n",
      "Use tf.cast instead.\n"
     ]
    },
    {
     "name": "stderr",
     "output_type": "stream",
     "text": [
      "/home/samir/anaconda3/lib/python3.7/site-packages/ipykernel_launcher.py:2: UserWarning: The `nb_epoch` argument in `fit` has been renamed `epochs`.\n",
      "  \n"
     ]
    },
    {
     "name": "stdout",
     "output_type": "stream",
     "text": [
      "Epoch 1/100\n",
      "8000/8000 [==============================] - 1s 156us/step - loss: 0.4919 - accuracy: 0.7947\n",
      "Epoch 2/100\n",
      "8000/8000 [==============================] - 1s 128us/step - loss: 0.4295 - accuracy: 0.7960\n",
      "Epoch 3/100\n",
      "8000/8000 [==============================] - 1s 131us/step - loss: 0.4250 - accuracy: 0.7960\n",
      "Epoch 4/100\n",
      "8000/8000 [==============================] - 1s 129us/step - loss: 0.4212 - accuracy: 0.8073\n",
      "Epoch 5/100\n",
      "8000/8000 [==============================] - 1s 128us/step - loss: 0.4177 - accuracy: 0.8214\n",
      "Epoch 6/100\n",
      "8000/8000 [==============================] - 1s 130us/step - loss: 0.4156 - accuracy: 0.8295\n",
      "Epoch 7/100\n",
      "8000/8000 [==============================] - 1s 129us/step - loss: 0.4142 - accuracy: 0.8284\n",
      "Epoch 8/100\n",
      "8000/8000 [==============================] - 1s 129us/step - loss: 0.4120 - accuracy: 0.8306\n",
      "Epoch 9/100\n",
      "8000/8000 [==============================] - 1s 128us/step - loss: 0.4112 - accuracy: 0.8316\n",
      "Epoch 10/100\n",
      "8000/8000 [==============================] - 1s 158us/step - loss: 0.4100 - accuracy: 0.8328\n",
      "Epoch 11/100\n",
      "8000/8000 [==============================] - 1s 161us/step - loss: 0.4094 - accuracy: 0.8334\n",
      "Epoch 12/100\n",
      "8000/8000 [==============================] - 1s 140us/step - loss: 0.4088 - accuracy: 0.8329\n",
      "Epoch 13/100\n",
      "8000/8000 [==============================] - 1s 137us/step - loss: 0.4078 - accuracy: 0.8322\n",
      "Epoch 14/100\n",
      "8000/8000 [==============================] - 1s 137us/step - loss: 0.4074 - accuracy: 0.8341\n",
      "Epoch 15/100\n",
      "8000/8000 [==============================] - 1s 140us/step - loss: 0.4070 - accuracy: 0.8346\n",
      "Epoch 16/100\n",
      "8000/8000 [==============================] - 1s 139us/step - loss: 0.4064 - accuracy: 0.8354\n",
      "Epoch 17/100\n",
      "8000/8000 [==============================] - 1s 138us/step - loss: 0.4063 - accuracy: 0.8339\n",
      "Epoch 18/100\n",
      "8000/8000 [==============================] - 1s 149us/step - loss: 0.4058 - accuracy: 0.8338\n",
      "Epoch 19/100\n",
      "8000/8000 [==============================] - 1s 138us/step - loss: 0.4052 - accuracy: 0.8345\n",
      "Epoch 20/100\n",
      "8000/8000 [==============================] - 1s 137us/step - loss: 0.4049 - accuracy: 0.8341\n",
      "Epoch 21/100\n",
      "8000/8000 [==============================] - 1s 139us/step - loss: 0.4048 - accuracy: 0.8347\n",
      "Epoch 22/100\n",
      "8000/8000 [==============================] - 1s 137us/step - loss: 0.4039 - accuracy: 0.8338\n",
      "Epoch 23/100\n",
      "8000/8000 [==============================] - 1s 139us/step - loss: 0.4042 - accuracy: 0.8359\n",
      "Epoch 24/100\n",
      "8000/8000 [==============================] - 1s 144us/step - loss: 0.4038 - accuracy: 0.8345\n",
      "Epoch 25/100\n",
      "8000/8000 [==============================] - 1s 139us/step - loss: 0.4033 - accuracy: 0.8342\n",
      "Epoch 26/100\n",
      "8000/8000 [==============================] - 1s 141us/step - loss: 0.4032 - accuracy: 0.8347\n",
      "Epoch 27/100\n",
      "8000/8000 [==============================] - 1s 140us/step - loss: 0.4033 - accuracy: 0.8355\n",
      "Epoch 28/100\n",
      "8000/8000 [==============================] - 1s 157us/step - loss: 0.4027 - accuracy: 0.8347\n",
      "Epoch 29/100\n",
      "8000/8000 [==============================] - 1s 148us/step - loss: 0.4029 - accuracy: 0.8340\n",
      "Epoch 30/100\n",
      "8000/8000 [==============================] - 1s 143us/step - loss: 0.4019 - accuracy: 0.8357\n",
      "Epoch 31/100\n",
      "8000/8000 [==============================] - 1s 142us/step - loss: 0.4028 - accuracy: 0.8350\n",
      "Epoch 32/100\n",
      "8000/8000 [==============================] - 1s 144us/step - loss: 0.4024 - accuracy: 0.8367\n",
      "Epoch 33/100\n",
      "8000/8000 [==============================] - 1s 142us/step - loss: 0.4017 - accuracy: 0.8345\n",
      "Epoch 34/100\n",
      "8000/8000 [==============================] - 1s 144us/step - loss: 0.4019 - accuracy: 0.8346\n",
      "Epoch 35/100\n",
      "8000/8000 [==============================] - 1s 142us/step - loss: 0.4018 - accuracy: 0.8364\n",
      "Epoch 36/100\n",
      "8000/8000 [==============================] - 1s 146us/step - loss: 0.4019 - accuracy: 0.8360\n",
      "Epoch 37/100\n",
      "8000/8000 [==============================] - 1s 143us/step - loss: 0.4015 - accuracy: 0.8361\n",
      "Epoch 38/100\n",
      "8000/8000 [==============================] - 1s 144us/step - loss: 0.4019 - accuracy: 0.8354\n",
      "Epoch 39/100\n",
      "8000/8000 [==============================] - 1s 154us/step - loss: 0.4012 - accuracy: 0.8335\n",
      "Epoch 40/100\n",
      "8000/8000 [==============================] - 1s 142us/step - loss: 0.4013 - accuracy: 0.8351\n",
      "Epoch 41/100\n",
      "8000/8000 [==============================] - 1s 140us/step - loss: 0.4015 - accuracy: 0.8364\n",
      "Epoch 42/100\n",
      "8000/8000 [==============================] - 1s 142us/step - loss: 0.4016 - accuracy: 0.8345\n",
      "Epoch 43/100\n",
      "8000/8000 [==============================] - 1s 145us/step - loss: 0.4012 - accuracy: 0.8359\n",
      "Epoch 44/100\n",
      "8000/8000 [==============================] - 1s 140us/step - loss: 0.4013 - accuracy: 0.8354\n",
      "Epoch 45/100\n",
      "8000/8000 [==============================] - 1s 147us/step - loss: 0.4011 - accuracy: 0.8349\n",
      "Epoch 46/100\n",
      "8000/8000 [==============================] - 1s 145us/step - loss: 0.4008 - accuracy: 0.8370\n",
      "Epoch 47/100\n",
      "8000/8000 [==============================] - 1s 143us/step - loss: 0.4012 - accuracy: 0.8349\n",
      "Epoch 48/100\n",
      "8000/8000 [==============================] - 1s 145us/step - loss: 0.4012 - accuracy: 0.8347\n",
      "Epoch 49/100\n",
      "8000/8000 [==============================] - 1s 139us/step - loss: 0.4009 - accuracy: 0.8347\n",
      "Epoch 50/100\n",
      "8000/8000 [==============================] - 1s 136us/step - loss: 0.4012 - accuracy: 0.8347\n",
      "Epoch 51/100\n",
      "8000/8000 [==============================] - 1s 134us/step - loss: 0.4005 - accuracy: 0.8349\n",
      "Epoch 52/100\n",
      "8000/8000 [==============================] - 1s 136us/step - loss: 0.4017 - accuracy: 0.8351\n",
      "Epoch 53/100\n",
      "8000/8000 [==============================] - 1s 136us/step - loss: 0.4009 - accuracy: 0.8345\n",
      "Epoch 54/100\n",
      "8000/8000 [==============================] - 1s 134us/step - loss: 0.4009 - accuracy: 0.8350\n",
      "Epoch 55/100\n",
      "8000/8000 [==============================] - 1s 133us/step - loss: 0.4004 - accuracy: 0.8351\n",
      "Epoch 56/100\n",
      "8000/8000 [==============================] - 1s 133us/step - loss: 0.4011 - accuracy: 0.8345\n",
      "Epoch 57/100\n",
      "8000/8000 [==============================] - 1s 135us/step - loss: 0.4004 - accuracy: 0.8359\n",
      "Epoch 58/100\n",
      "8000/8000 [==============================] - 1s 135us/step - loss: 0.4009 - accuracy: 0.8330\n",
      "Epoch 59/100\n",
      "8000/8000 [==============================] - 1s 135us/step - loss: 0.4006 - accuracy: 0.8339\n",
      "Epoch 60/100\n",
      "8000/8000 [==============================] - 1s 136us/step - loss: 0.4008 - accuracy: 0.8355\n",
      "Epoch 61/100\n",
      "8000/8000 [==============================] - 1s 137us/step - loss: 0.4006 - accuracy: 0.8363\n",
      "Epoch 62/100\n",
      "8000/8000 [==============================] - 1s 134us/step - loss: 0.4001 - accuracy: 0.8349\n",
      "Epoch 63/100\n",
      "8000/8000 [==============================] - 1s 137us/step - loss: 0.4007 - accuracy: 0.8369\n",
      "Epoch 64/100\n",
      "8000/8000 [==============================] - 1s 145us/step - loss: 0.4007 - accuracy: 0.8338\n",
      "Epoch 65/100\n",
      "8000/8000 [==============================] - 1s 140us/step - loss: 0.4004 - accuracy: 0.8351\n",
      "Epoch 66/100\n",
      "8000/8000 [==============================] - 1s 160us/step - loss: 0.4005 - accuracy: 0.8354\n",
      "Epoch 67/100\n",
      "8000/8000 [==============================] - 1s 187us/step - loss: 0.4006 - accuracy: 0.8347\n",
      "Epoch 68/100\n",
      "8000/8000 [==============================] - 1s 167us/step - loss: 0.4005 - accuracy: 0.8340\n",
      "Epoch 69/100\n",
      "8000/8000 [==============================] - 1s 163us/step - loss: 0.4007 - accuracy: 0.8345\n",
      "Epoch 70/100\n",
      "8000/8000 [==============================] - 1s 170us/step - loss: 0.4005 - accuracy: 0.8365\n",
      "Epoch 71/100\n",
      "8000/8000 [==============================] - 1s 184us/step - loss: 0.4004 - accuracy: 0.8341\n",
      "Epoch 72/100\n",
      "8000/8000 [==============================] - 1s 161us/step - loss: 0.3996 - accuracy: 0.8359\n",
      "Epoch 73/100\n",
      "8000/8000 [==============================] - 1s 172us/step - loss: 0.4006 - accuracy: 0.8363\n",
      "Epoch 74/100\n",
      "8000/8000 [==============================] - 1s 166us/step - loss: 0.4002 - accuracy: 0.8347\n",
      "Epoch 75/100\n",
      "8000/8000 [==============================] - 1s 156us/step - loss: 0.4005 - accuracy: 0.8367\n",
      "Epoch 76/100\n",
      "8000/8000 [==============================] - 1s 159us/step - loss: 0.4000 - accuracy: 0.8365\n",
      "Epoch 77/100\n",
      "8000/8000 [==============================] - 1s 152us/step - loss: 0.4007 - accuracy: 0.8363\n",
      "Epoch 78/100\n"
     ]
    },
    {
     "name": "stdout",
     "output_type": "stream",
     "text": [
      "8000/8000 [==============================] - 1s 133us/step - loss: 0.4009 - accuracy: 0.8353\n",
      "Epoch 79/100\n",
      "8000/8000 [==============================] - 1s 129us/step - loss: 0.4003 - accuracy: 0.8340\n",
      "Epoch 80/100\n",
      "8000/8000 [==============================] - 1s 129us/step - loss: 0.3997 - accuracy: 0.8356\n",
      "Epoch 81/100\n",
      "8000/8000 [==============================] - 1s 152us/step - loss: 0.4000 - accuracy: 0.8342\n",
      "Epoch 82/100\n",
      "8000/8000 [==============================] - 2s 201us/step - loss: 0.4006 - accuracy: 0.8349\n",
      "Epoch 83/100\n",
      "8000/8000 [==============================] - 1s 131us/step - loss: 0.4005 - accuracy: 0.8346\n",
      "Epoch 84/100\n",
      "8000/8000 [==============================] - 1s 142us/step - loss: 0.4005 - accuracy: 0.8356\n",
      "Epoch 85/100\n",
      "8000/8000 [==============================] - 1s 129us/step - loss: 0.4001 - accuracy: 0.8347\n",
      "Epoch 86/100\n",
      "8000/8000 [==============================] - 1s 129us/step - loss: 0.4002 - accuracy: 0.8338\n",
      "Epoch 87/100\n",
      "8000/8000 [==============================] - 1s 131us/step - loss: 0.4004 - accuracy: 0.8345\n",
      "Epoch 88/100\n",
      "8000/8000 [==============================] - 1s 129us/step - loss: 0.4002 - accuracy: 0.8355\n",
      "Epoch 89/100\n",
      "8000/8000 [==============================] - 1s 130us/step - loss: 0.4005 - accuracy: 0.8357\n",
      "Epoch 90/100\n",
      "8000/8000 [==============================] - 1s 130us/step - loss: 0.4000 - accuracy: 0.8354\n",
      "Epoch 91/100\n",
      "8000/8000 [==============================] - 1s 131us/step - loss: 0.4001 - accuracy: 0.8360\n",
      "Epoch 92/100\n",
      "8000/8000 [==============================] - 1s 128us/step - loss: 0.4001 - accuracy: 0.8350\n",
      "Epoch 93/100\n",
      "8000/8000 [==============================] - 1s 129us/step - loss: 0.4002 - accuracy: 0.8361\n",
      "Epoch 94/100\n",
      "8000/8000 [==============================] - 1s 130us/step - loss: 0.4004 - accuracy: 0.8341\n",
      "Epoch 95/100\n",
      "8000/8000 [==============================] - 1s 130us/step - loss: 0.4002 - accuracy: 0.8375\n",
      "Epoch 96/100\n",
      "8000/8000 [==============================] - 1s 129us/step - loss: 0.4002 - accuracy: 0.8349\n",
      "Epoch 97/100\n",
      "8000/8000 [==============================] - 1s 130us/step - loss: 0.4004 - accuracy: 0.8360\n",
      "Epoch 98/100\n",
      "8000/8000 [==============================] - 1s 130us/step - loss: 0.4001 - accuracy: 0.8353\n",
      "Epoch 99/100\n",
      "8000/8000 [==============================] - 1s 131us/step - loss: 0.4002 - accuracy: 0.8365\n",
      "Epoch 100/100\n",
      "8000/8000 [==============================] - 1s 130us/step - loss: 0.4004 - accuracy: 0.8353\n"
     ]
    },
    {
     "data": {
      "text/plain": [
       "<keras.callbacks.callbacks.History at 0x7f16623c1410>"
      ]
     },
     "execution_count": 20,
     "metadata": {},
     "output_type": "execute_result"
    }
   ],
   "source": [
    "#Fitting the ANN to the training set\n",
    "classifier.fit(X_train,y_train,batch_size=10,nb_epoch=100)   "
   ]
  },
  {
   "cell_type": "markdown",
   "metadata": {},
   "source": [
    "# Part - 3 Making the prediction and evaluating the model"
   ]
  },
  {
   "cell_type": "code",
   "execution_count": 21,
   "metadata": {},
   "outputs": [],
   "source": [
    "#predicting the test set results\n",
    "y_pred = classifier.predict(X_test)\n",
    "y_pred = (y_pred>0.5)#To return result in the form of true and false"
   ]
  },
  {
   "cell_type": "code",
   "execution_count": 22,
   "metadata": {},
   "outputs": [
    {
     "data": {
      "text/plain": [
       "array([[False],\n",
       "       [False],\n",
       "       [False],\n",
       "       [False],\n",
       "       [False],\n",
       "       [ True],\n",
       "       [False],\n",
       "       [False],\n",
       "       [False],\n",
       "       [ True]])"
      ]
     },
     "execution_count": 22,
     "metadata": {},
     "output_type": "execute_result"
    }
   ],
   "source": [
    "y_pred[:10]"
   ]
  },
  {
   "cell_type": "code",
   "execution_count": 23,
   "metadata": {},
   "outputs": [
    {
     "data": {
      "text/plain": [
       "array([[1546,   49],\n",
       "       [ 269,  136]])"
      ]
     },
     "execution_count": 23,
     "metadata": {},
     "output_type": "execute_result"
    }
   ],
   "source": [
    "#making the confusion matrix\n",
    "from sklearn.metrics import confusion_matrix\n",
    "cm = confusion_matrix(y_test,y_pred)\n",
    "cm"
   ]
  },
  {
   "cell_type": "code",
   "execution_count": 24,
   "metadata": {},
   "outputs": [
    {
     "name": "stdout",
     "output_type": "stream",
     "text": [
      "Accuracy =  84.1 %\n"
     ]
    }
   ],
   "source": [
    "print('Accuracy = ',((cm[0,0]+cm[1,1])/2000)*100,'%')"
   ]
  }
 ],
 "metadata": {
  "kernelspec": {
   "display_name": "Python 3",
   "language": "python",
   "name": "python3"
  },
  "language_info": {
   "codemirror_mode": {
    "name": "ipython",
    "version": 3
   },
   "file_extension": ".py",
   "mimetype": "text/x-python",
   "name": "python",
   "nbconvert_exporter": "python",
   "pygments_lexer": "ipython3",
   "version": "3.7.4"
  },
  "varInspector": {
   "cols": {
    "lenName": 16,
    "lenType": 16,
    "lenVar": 40
   },
   "kernels_config": {
    "python": {
     "delete_cmd_postfix": "",
     "delete_cmd_prefix": "del ",
     "library": "var_list.py",
     "varRefreshCmd": "print(var_dic_list())"
    },
    "r": {
     "delete_cmd_postfix": ") ",
     "delete_cmd_prefix": "rm(",
     "library": "var_list.r",
     "varRefreshCmd": "cat(var_dic_list()) "
    }
   },
   "oldHeight": 391.85,
   "position": {
    "height": "273px",
    "left": "882px",
    "right": "20px",
    "top": "110px",
    "width": "358px"
   },
   "types_to_exclude": [
    "module",
    "function",
    "builtin_function_or_method",
    "instance",
    "_Feature"
   ],
   "varInspector_section_display": "none",
   "window_display": false
  }
 },
 "nbformat": 4,
 "nbformat_minor": 4
}
