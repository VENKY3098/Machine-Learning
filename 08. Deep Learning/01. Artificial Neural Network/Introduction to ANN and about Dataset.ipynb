{
 "cells": [
  {
   "cell_type": "markdown",
   "metadata": {},
   "source": [
    "# Introduction to Artificial Neural Network"
   ]
  },
  {
   "cell_type": "markdown",
   "metadata": {},
   "source": [
    "# About the dataset\n",
    "***\n",
    "The dataset is of a bank.<br>\n",
    "Problem : The bank has been seeing unusual churn rates. Churn is when people leave the company. People are leaving bank at a high rate, so bank want to know what the problem is and they want to assess an address that problem.<br>\n",
    "So the independent variables are `RowNumber`, `CustomerId`, `Surname`, `CreditScore`, `Geography`,` Gender`, `Age`, `Tenure`, `Balance`, `NumberofProducts`, `HasCard`, `IsActiveMember` and `Estimated Salary`.<br>\n",
    "The dependent variable is named as `Exited` i.e. if the person left the bank or remained.<br>\n",
    "Solution : So based on the prior experience we would know wether a person is reliable or can be defaulter. And we would build a model Which can govern decision such as wether to give the loan or not. This could be in terms of fraudulent transaactions in bank or other financial institution."
   ]
  },
  {
   "cell_type": "markdown",
   "metadata": {},
   "source": [
    "# About the Libraries"
   ]
  },
  {
   "cell_type": "markdown",
   "metadata": {},
   "source": [
    "**Theano** : Theano is an opensource numerical computation library very efficient for fast numerical computations. Special thing about this library is that is not only runs on `CPU` but it runs on `GPU` as well.<br>\n",
    "**Tensorflow** : It is an opensource library numerical Computation library that runs very fast computations and this can also run on CPU and GPU.<br>\n",
    "**Keras** : keras is a library based on theano and tensorflow to build efficient deep learning models. "
   ]
  }
 ],
 "metadata": {
  "kernelspec": {
   "display_name": "Python 3",
   "language": "python",
   "name": "python3"
  },
  "language_info": {
   "codemirror_mode": {
    "name": "ipython",
    "version": 3
   },
   "file_extension": ".py",
   "mimetype": "text/x-python",
   "name": "python",
   "nbconvert_exporter": "python",
   "pygments_lexer": "ipython3",
   "version": "3.7.4"
  }
 },
 "nbformat": 4,
 "nbformat_minor": 2
}
