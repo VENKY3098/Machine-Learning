{
 "cells": [
  {
   "cell_type": "markdown",
   "metadata": {},
   "source": [
    "When we look at the result of the convolutional Neural Network we see that when we add up the results they add up to 1.<br>\n",
    "So the question is do one parameter or attribute knows the value of other ? <br>\n",
    "The answer is **no**, One parameter does not know the value of other.<br>\n",
    "So there lies a formula i.e. $$f_{j}(z) = \\frac{e^{z}j}{\\sum{_{k}}{e^{z}j}}$$ <br>Which takes care of this thing.<br><br>\n",
    "The softmax function or the normalized exponential function is a genralization of the logistic function  "
   ]
  },
  {
   "cell_type": "markdown",
   "metadata": {},
   "source": [
    "**Cross-Entropy Function**"
   ]
  },
  {
   "cell_type": "markdown",
   "metadata": {},
   "source": [
    "$$L_{i} = -\\log(\\frac{e^{f}y_{i}}{\\sum_{j}e^{f_{j}}})$$<br><br>\n",
    "$$H(p,q) = - \\sum_{x}p(x)logq(x)$$"
   ]
  }
 ],
 "metadata": {
  "kernelspec": {
   "display_name": "Python 3",
   "language": "python",
   "name": "python3"
  },
  "language_info": {
   "codemirror_mode": {
    "name": "ipython",
    "version": 3
   },
   "file_extension": ".py",
   "mimetype": "text/x-python",
   "name": "python",
   "nbconvert_exporter": "python",
   "pygments_lexer": "ipython3",
   "version": "3.7.4"
  },
  "varInspector": {
   "cols": {
    "lenName": 16,
    "lenType": 16,
    "lenVar": 40
   },
   "kernels_config": {
    "python": {
     "delete_cmd_postfix": "",
     "delete_cmd_prefix": "del ",
     "library": "var_list.py",
     "varRefreshCmd": "print(var_dic_list())"
    },
    "r": {
     "delete_cmd_postfix": ") ",
     "delete_cmd_prefix": "rm(",
     "library": "var_list.r",
     "varRefreshCmd": "cat(var_dic_list()) "
    }
   },
   "types_to_exclude": [
    "module",
    "function",
    "builtin_function_or_method",
    "instance",
    "_Feature"
   ],
   "window_display": false
  }
 },
 "nbformat": 4,
 "nbformat_minor": 2
}
