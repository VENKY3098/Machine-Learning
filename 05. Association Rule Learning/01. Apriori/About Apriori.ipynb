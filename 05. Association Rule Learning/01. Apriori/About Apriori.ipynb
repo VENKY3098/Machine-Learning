{
 "cells": [
  {
   "cell_type": "markdown",
   "metadata": {},
   "source": [
    "# Apriori"
   ]
  },
  {
   "cell_type": "markdown",
   "metadata": {},
   "source": [
    "People who bought something also bought something.<br><br>\n",
    "Proving something by prior knowledge - apriori<br><br>\n",
    "How does the apriori algorithm work ?<br><br>\n",
    "Movie Recommendation : **Support(M)** = *Number of user watchlists containg **M** / Number of user watchlists* <br>\n",
    "Market Basket Optimisation : **Support(I)** = *Number of transactions containing **I** / Number of transaction*<br><br>\n",
    "Let there be a certain movie : <br>\n",
    "Let there be 100 people who watched the movie, So number of **observation** is **100**.<br>\n",
    "Let there be 10 people who saw movie 1<br><br>\n",
    "So **support** = **10/100** = **10%**<br>"
   ]
  },
  {
   "cell_type": "markdown",
   "metadata": {},
   "source": [
    "Now we will find **confidence**<br>\n",
    "Movie Recommendation : **Confidence(M1 -> M2)** = *Number of user watchlist containing* **M1** *and* **M2** */* *number of user watchlist containing* **M1** <br>\n",
    "Market Basket Optimisation : **Confidence(L1 -> L2)** =*Number of user transactions containing* **L1** *and* **L2** */* *number of  Transaction containing* **L1**<br><br>\n",
    "Let **40** people have seen **movie 2** of which **7** people have seen **movie 1** too i.e. **7** people have seen both movies.<br><br>\n",
    "So **Confidence** = **7/40** = **17.5%**<br>"
   ]
  },
  {
   "cell_type": "markdown",
   "metadata": {},
   "source": [
    "Now we will find **Lift**<br>\n",
    "Movie Recommendation : $lift(M1 -> M2)$ =$$ \\frac{Confidence(M1 -> M2)}{Support(M2)}$$"
   ]
  },
  {
   "cell_type": "markdown",
   "metadata": {},
   "source": [
    "Market Basket Optimisation : $lift(L1 -> L2)$ =$$ \\frac{Confidence(L1 -> L2)}{Support(L2)}$$"
   ]
  },
  {
   "cell_type": "markdown",
   "metadata": {},
   "source": [
    "What is the likelihood that people will watch movie 1 ?<br>\n",
    "Out of whole population only 10% will like the movie 1.<br>\n",
    "Likelihood of people who watched movie also liked ex machina is 17.5%."
   ]
  },
  {
   "cell_type": "markdown",
   "metadata": {},
   "source": [
    "**Step 1 :** Set a minimum support and confidence.<br>\n",
    "**Step 2 :** Take all the subsets in transactions having higher support than minimum support.<br>\n",
    "**Step 3 :** Take all the rules of these subsets having higher confidence than minimum confidence.<br>\n",
    "**Step 4 :** Sort the rules by decreasing lift."
   ]
  }
 ],
 "metadata": {
  "kernelspec": {
   "display_name": "Python 3",
   "language": "python",
   "name": "python3"
  },
  "language_info": {
   "codemirror_mode": {
    "name": "ipython",
    "version": 3
   },
   "file_extension": ".py",
   "mimetype": "text/x-python",
   "name": "python",
   "nbconvert_exporter": "python",
   "pygments_lexer": "ipython3",
   "version": "3.7.3"
  },
  "varInspector": {
   "cols": {
    "lenName": 16,
    "lenType": 16,
    "lenVar": 40
   },
   "kernels_config": {
    "python": {
     "delete_cmd_postfix": "",
     "delete_cmd_prefix": "del ",
     "library": "var_list.py",
     "varRefreshCmd": "print(var_dic_list())"
    },
    "r": {
     "delete_cmd_postfix": ") ",
     "delete_cmd_prefix": "rm(",
     "library": "var_list.r",
     "varRefreshCmd": "cat(var_dic_list()) "
    }
   },
   "types_to_exclude": [
    "module",
    "function",
    "builtin_function_or_method",
    "instance",
    "_Feature"
   ],
   "window_display": false
  }
 },
 "nbformat": 4,
 "nbformat_minor": 4
}
